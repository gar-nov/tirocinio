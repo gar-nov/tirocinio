{
  "nbformat": 4,
  "nbformat_minor": 0,
  "metadata": {
    "colab": {
      "provenance": [],
      "include_colab_link": true
    },
    "kernelspec": {
      "name": "python3",
      "display_name": "Python 3"
    },
    "language_info": {
      "name": "python"
    }
  },
  "cells": [
    {
      "cell_type": "markdown",
      "metadata": {
        "id": "view-in-github",
        "colab_type": "text"
      },
      "source": [
        "<a href=\"https://colab.research.google.com/github/gar-nov/tirocinio/blob/main/clean_dataset.ipynb\" target=\"_parent\"><img src=\"https://colab.research.google.com/assets/colab-badge.svg\" alt=\"Open In Colab\"/></a>"
      ]
    },
    {
      "cell_type": "markdown",
      "source": [
        "# introduzione alla MISBEHAVIOUR DETECTION nei VANETS\n",
        "i VANETS ( Vehicular Ad-Hoc Networks ) sono reti in cui i nodi, ovvero veicoli, comunicano tra loro (V2V: Vehicle-to-vehicle) e con le infrastutture stradali tramite moduli wireless ad hoc attraverso protocolli di comunicazione specifici come il DSRC (Dedicated short Range Communication) o lo IEEE 802.11p, il cui obbiettivo sono migliorare la sicurezza stradale, rendere il traffico fluido e gestire la mobilità.\n",
        "I veicoli comunicano tra di loro scambiandosi messaggi periodicin chiamati  Basic Safety Messages (BSM) negli Stati Uniti o i Cooperative Awarness Messages (CAM) in Europa e contengono informazioni su posizione, velocità, direzione e altri parametri del veicolo.\n",
        "Nonostante i protocolli utilizzati garantiscano che i messaggi siano autentici, un veicolo malevolo può inviare messaggi con contenuti falsi e per affrontare questo problema si introduce il concetto di Misbehavior Detection che sono un insieme di tecniche che consentono di rilevare messaggi non corretti o comportamenti sospetti all'interno della rete.\n",
        "\n",
        "Esitono due tipologie di approcci:\n",
        "- Node Centric: stiamo la fiducia o reputazione del mittente basandosi sul suo comportamento storico\n",
        "- Data-centric: verificano se i dati ricevuti sono attendibili\n",
        "\n",
        "*(Fonte: Van der Heijden et al., \"Survey on Misbehavior Detection in Cooperative Intelligent Transportation Systems\", ACM Computing Surveys, 2016)*\n",
        "\n",
        "\n",
        "In questo progetto ci concentriamo su un approccio di tipo data-centric in cui si andranno a valutare attraverso tecniche di Machine Learning se i dati ricevuti dai veicoli che sono presenti nel dataset Veremi, sono affidabili oppure rappresentano un attacco.\n",
        "Il dataset utilizza lo scenario LuST, che simula realisticamente il traffico di Lussemburgo. Non si concentra su un solo tipo di traffico, ma include situazioni diverse: strade urbane, periferiche, e autostrade. Per coprire più condizioni, hanno simulato tre momenti della giornata: 3:00 di notte per traffico basso, 5:00 per traffico medio e 7:00 di mattina per traffico alto. Ogni simulazione dura 100 secondi e ci sono in totale 225 simulazioni ottenute variando la densità, la probabilità di avere attaccanti e i semi casuali.\n"
      ],
      "metadata": {
        "id": "cjqAEcFejXuZ"
      }
    },
    {
      "cell_type": "markdown",
      "source": [
        "\n",
        "\n",
        "#Obbiettivo: pulire il dataset\n",
        "\n",
        "analizzare la struttura e il contenuto del dataset in particolare si vogliono controllare i valori nulli ed eventualmente gestirli, rimuovere la presenza di duplicati, rimuovere campi non utili."
      ],
      "metadata": {
        "id": "Wsiurkpdv6rU"
      }
    },
    {
      "cell_type": "markdown",
      "source": [
        "# Importazione e installazione di librerie"
      ],
      "metadata": {
        "id": "KFlsRJbMbbFg"
      }
    },
    {
      "cell_type": "markdown",
      "source": [
        "importiamo le librerie necessarie per manipolare il dataset"
      ],
      "metadata": {
        "id": "q9rAGiqdbzMJ"
      }
    },
    {
      "cell_type": "code",
      "execution_count": 1,
      "metadata": {
        "id": "uhShPhEFkRPy"
      },
      "outputs": [],
      "source": [
        "import pandas as pd\n",
        "import numpy as np"
      ]
    },
    {
      "cell_type": "code",
      "source": [
        "!pip install kagglehub --quiet\n",
        "import kagglehub"
      ],
      "metadata": {
        "id": "MESGBdOWoRir"
      },
      "execution_count": 2,
      "outputs": []
    },
    {
      "cell_type": "markdown",
      "source": [
        "# caricamento del dataset veremi"
      ],
      "metadata": {
        "id": "S3lPkno7ovbY"
      }
    },
    {
      "cell_type": "code",
      "source": [
        "path = kagglehub.dataset_download(\"haider094/veremi-dataset\")\n"
      ],
      "metadata": {
        "id": "cJzm_otXoNMw",
        "colab": {
          "base_uri": "https://localhost:8080/"
        },
        "outputId": "598c626f-b00d-42c7-e1d4-c1591449a629"
      },
      "execution_count": 3,
      "outputs": [
        {
          "output_type": "stream",
          "name": "stdout",
          "text": [
            "Downloading from https://www.kaggle.com/api/v1/datasets/download/haider094/veremi-dataset?dataset_version_number=1...\n"
          ]
        },
        {
          "output_type": "stream",
          "name": "stderr",
          "text": [
            "100%|██████████| 3.14G/3.14G [00:31<00:00, 106MB/s]"
          ]
        },
        {
          "output_type": "stream",
          "name": "stdout",
          "text": [
            "Extracting files...\n"
          ]
        },
        {
          "output_type": "stream",
          "name": "stderr",
          "text": [
            "\n"
          ]
        }
      ]
    },
    {
      "cell_type": "code",
      "source": [
        "import os\n",
        "\n",
        "for root, dirs, files in os.walk(path):\n",
        "    for name in files:\n",
        "        print(os.path.join(root, name))"
      ],
      "metadata": {
        "colab": {
          "base_uri": "https://localhost:8080/"
        },
        "id": "SBMQs3YVqDhX",
        "outputId": "8753f84c-4350-4cac-c310-b498a33746d3"
      },
      "execution_count": 4,
      "outputs": [
        {
          "output_type": "stream",
          "name": "stdout",
          "text": [
            "/root/.cache/kagglehub/datasets/haider094/veremi-dataset/versions/1/Veremi_final_dataset.csv\n"
          ]
        }
      ]
    },
    {
      "cell_type": "code",
      "source": [
        "data = pd.read_csv(f\"{path}/Veremi_final_dataset.csv\")"
      ],
      "metadata": {
        "id": "W2i5x1qooGMm"
      },
      "execution_count": 5,
      "outputs": []
    },
    {
      "cell_type": "markdown",
      "source": [
        "# Analisi struttura e contenuto del dataset"
      ],
      "metadata": {
        "id": "yTC_tnyFwN03"
      }
    },
    {
      "cell_type": "code",
      "source": [
        "# comando per visualizzare le prime righe del contenuto\n",
        "data.head()"
      ],
      "metadata": {
        "colab": {
          "base_uri": "https://localhost:8080/",
          "height": 336
        },
        "id": "tmVJ3MarwVgi",
        "outputId": "3071a5a5-f3b0-4abd-a7bb-e0be90ba7ecc"
      },
      "execution_count": 6,
      "outputs": [
        {
          "output_type": "execute_result",
          "data": {
            "text/plain": [
              "   Unnamed: 0  type       rcvTime        pos_0       pos_1  pos_noise_0  \\\n",
              "0           0     3  27371.216284   981.098535  908.497891     3.826423   \n",
              "1           1     3  52060.561117  1213.025174  984.277524     4.477449   \n",
              "2           2     3  28156.319142   140.514133  944.338854     2.965184   \n",
              "3           3     3  28671.375689   558.005547  327.316562     4.934159   \n",
              "4           4     2  53612.000000   689.179631  547.143780     3.327547   \n",
              "\n",
              "   pos_noise_1      spd_0     spd_1  spd_noise_0  ...     acl_0     acl_1  \\\n",
              "0     3.964059 -17.723786 -2.154895    -0.024182  ... -0.248402 -0.177659   \n",
              "1     4.459375  14.504808  2.605276    -0.008523  ... -0.653850 -0.117125   \n",
              "2     3.066191  -0.346027  4.671520    -0.000469  ...  0.333247 -4.486889   \n",
              "3     5.037039  11.792797  4.028876     0.022346  ... -0.030639 -0.010265   \n",
              "4     3.374621   3.887137 -8.732709     0.000090  ... -1.829939  4.111129   \n",
              "\n",
              "   acl_noise_0   acl_noise_1     hed_0     hed_1  hed_noise_0  hed_noise_1  \\\n",
              "0     0.000784  1.114785e-03 -0.971331 -0.237732    44.022409    33.840519   \n",
              "1     0.000001  1.847528e-07  0.992578  0.121610     2.560114     8.414909   \n",
              "2     0.000448  6.050771e-03  0.256103  0.966649    15.915074     9.636057   \n",
              "3     0.000066  2.237617e-05  0.954113  0.299446     2.854203     6.203941   \n",
              "4     0.000028  6.361425e-05  0.360402 -0.932797     5.648109    19.951521   \n",
              "\n",
              "   attack        attack_type  \n",
              "0       0  RandomSpeedOffset  \n",
              "1       0         DataReplay  \n",
              "2       1      DoSDisruptive  \n",
              "3       1  RandomSpeedOffset  \n",
              "4       0                DoS  \n",
              "\n",
              "[5 rows x 21 columns]"
            ],
            "text/html": [
              "\n",
              "  <div id=\"df-f8b9b0a0-2545-444c-a0cf-97f9a8b3ee58\" class=\"colab-df-container\">\n",
              "    <div>\n",
              "<style scoped>\n",
              "    .dataframe tbody tr th:only-of-type {\n",
              "        vertical-align: middle;\n",
              "    }\n",
              "\n",
              "    .dataframe tbody tr th {\n",
              "        vertical-align: top;\n",
              "    }\n",
              "\n",
              "    .dataframe thead th {\n",
              "        text-align: right;\n",
              "    }\n",
              "</style>\n",
              "<table border=\"1\" class=\"dataframe\">\n",
              "  <thead>\n",
              "    <tr style=\"text-align: right;\">\n",
              "      <th></th>\n",
              "      <th>Unnamed: 0</th>\n",
              "      <th>type</th>\n",
              "      <th>rcvTime</th>\n",
              "      <th>pos_0</th>\n",
              "      <th>pos_1</th>\n",
              "      <th>pos_noise_0</th>\n",
              "      <th>pos_noise_1</th>\n",
              "      <th>spd_0</th>\n",
              "      <th>spd_1</th>\n",
              "      <th>spd_noise_0</th>\n",
              "      <th>...</th>\n",
              "      <th>acl_0</th>\n",
              "      <th>acl_1</th>\n",
              "      <th>acl_noise_0</th>\n",
              "      <th>acl_noise_1</th>\n",
              "      <th>hed_0</th>\n",
              "      <th>hed_1</th>\n",
              "      <th>hed_noise_0</th>\n",
              "      <th>hed_noise_1</th>\n",
              "      <th>attack</th>\n",
              "      <th>attack_type</th>\n",
              "    </tr>\n",
              "  </thead>\n",
              "  <tbody>\n",
              "    <tr>\n",
              "      <th>0</th>\n",
              "      <td>0</td>\n",
              "      <td>3</td>\n",
              "      <td>27371.216284</td>\n",
              "      <td>981.098535</td>\n",
              "      <td>908.497891</td>\n",
              "      <td>3.826423</td>\n",
              "      <td>3.964059</td>\n",
              "      <td>-17.723786</td>\n",
              "      <td>-2.154895</td>\n",
              "      <td>-0.024182</td>\n",
              "      <td>...</td>\n",
              "      <td>-0.248402</td>\n",
              "      <td>-0.177659</td>\n",
              "      <td>0.000784</td>\n",
              "      <td>1.114785e-03</td>\n",
              "      <td>-0.971331</td>\n",
              "      <td>-0.237732</td>\n",
              "      <td>44.022409</td>\n",
              "      <td>33.840519</td>\n",
              "      <td>0</td>\n",
              "      <td>RandomSpeedOffset</td>\n",
              "    </tr>\n",
              "    <tr>\n",
              "      <th>1</th>\n",
              "      <td>1</td>\n",
              "      <td>3</td>\n",
              "      <td>52060.561117</td>\n",
              "      <td>1213.025174</td>\n",
              "      <td>984.277524</td>\n",
              "      <td>4.477449</td>\n",
              "      <td>4.459375</td>\n",
              "      <td>14.504808</td>\n",
              "      <td>2.605276</td>\n",
              "      <td>-0.008523</td>\n",
              "      <td>...</td>\n",
              "      <td>-0.653850</td>\n",
              "      <td>-0.117125</td>\n",
              "      <td>0.000001</td>\n",
              "      <td>1.847528e-07</td>\n",
              "      <td>0.992578</td>\n",
              "      <td>0.121610</td>\n",
              "      <td>2.560114</td>\n",
              "      <td>8.414909</td>\n",
              "      <td>0</td>\n",
              "      <td>DataReplay</td>\n",
              "    </tr>\n",
              "    <tr>\n",
              "      <th>2</th>\n",
              "      <td>2</td>\n",
              "      <td>3</td>\n",
              "      <td>28156.319142</td>\n",
              "      <td>140.514133</td>\n",
              "      <td>944.338854</td>\n",
              "      <td>2.965184</td>\n",
              "      <td>3.066191</td>\n",
              "      <td>-0.346027</td>\n",
              "      <td>4.671520</td>\n",
              "      <td>-0.000469</td>\n",
              "      <td>...</td>\n",
              "      <td>0.333247</td>\n",
              "      <td>-4.486889</td>\n",
              "      <td>0.000448</td>\n",
              "      <td>6.050771e-03</td>\n",
              "      <td>0.256103</td>\n",
              "      <td>0.966649</td>\n",
              "      <td>15.915074</td>\n",
              "      <td>9.636057</td>\n",
              "      <td>1</td>\n",
              "      <td>DoSDisruptive</td>\n",
              "    </tr>\n",
              "    <tr>\n",
              "      <th>3</th>\n",
              "      <td>3</td>\n",
              "      <td>3</td>\n",
              "      <td>28671.375689</td>\n",
              "      <td>558.005547</td>\n",
              "      <td>327.316562</td>\n",
              "      <td>4.934159</td>\n",
              "      <td>5.037039</td>\n",
              "      <td>11.792797</td>\n",
              "      <td>4.028876</td>\n",
              "      <td>0.022346</td>\n",
              "      <td>...</td>\n",
              "      <td>-0.030639</td>\n",
              "      <td>-0.010265</td>\n",
              "      <td>0.000066</td>\n",
              "      <td>2.237617e-05</td>\n",
              "      <td>0.954113</td>\n",
              "      <td>0.299446</td>\n",
              "      <td>2.854203</td>\n",
              "      <td>6.203941</td>\n",
              "      <td>1</td>\n",
              "      <td>RandomSpeedOffset</td>\n",
              "    </tr>\n",
              "    <tr>\n",
              "      <th>4</th>\n",
              "      <td>4</td>\n",
              "      <td>2</td>\n",
              "      <td>53612.000000</td>\n",
              "      <td>689.179631</td>\n",
              "      <td>547.143780</td>\n",
              "      <td>3.327547</td>\n",
              "      <td>3.374621</td>\n",
              "      <td>3.887137</td>\n",
              "      <td>-8.732709</td>\n",
              "      <td>0.000090</td>\n",
              "      <td>...</td>\n",
              "      <td>-1.829939</td>\n",
              "      <td>4.111129</td>\n",
              "      <td>0.000028</td>\n",
              "      <td>6.361425e-05</td>\n",
              "      <td>0.360402</td>\n",
              "      <td>-0.932797</td>\n",
              "      <td>5.648109</td>\n",
              "      <td>19.951521</td>\n",
              "      <td>0</td>\n",
              "      <td>DoS</td>\n",
              "    </tr>\n",
              "  </tbody>\n",
              "</table>\n",
              "<p>5 rows × 21 columns</p>\n",
              "</div>\n",
              "    <div class=\"colab-df-buttons\">\n",
              "\n",
              "  <div class=\"colab-df-container\">\n",
              "    <button class=\"colab-df-convert\" onclick=\"convertToInteractive('df-f8b9b0a0-2545-444c-a0cf-97f9a8b3ee58')\"\n",
              "            title=\"Convert this dataframe to an interactive table.\"\n",
              "            style=\"display:none;\">\n",
              "\n",
              "  <svg xmlns=\"http://www.w3.org/2000/svg\" height=\"24px\" viewBox=\"0 -960 960 960\">\n",
              "    <path d=\"M120-120v-720h720v720H120Zm60-500h600v-160H180v160Zm220 220h160v-160H400v160Zm0 220h160v-160H400v160ZM180-400h160v-160H180v160Zm440 0h160v-160H620v160ZM180-180h160v-160H180v160Zm440 0h160v-160H620v160Z\"/>\n",
              "  </svg>\n",
              "    </button>\n",
              "\n",
              "  <style>\n",
              "    .colab-df-container {\n",
              "      display:flex;\n",
              "      gap: 12px;\n",
              "    }\n",
              "\n",
              "    .colab-df-convert {\n",
              "      background-color: #E8F0FE;\n",
              "      border: none;\n",
              "      border-radius: 50%;\n",
              "      cursor: pointer;\n",
              "      display: none;\n",
              "      fill: #1967D2;\n",
              "      height: 32px;\n",
              "      padding: 0 0 0 0;\n",
              "      width: 32px;\n",
              "    }\n",
              "\n",
              "    .colab-df-convert:hover {\n",
              "      background-color: #E2EBFA;\n",
              "      box-shadow: 0px 1px 2px rgba(60, 64, 67, 0.3), 0px 1px 3px 1px rgba(60, 64, 67, 0.15);\n",
              "      fill: #174EA6;\n",
              "    }\n",
              "\n",
              "    .colab-df-buttons div {\n",
              "      margin-bottom: 4px;\n",
              "    }\n",
              "\n",
              "    [theme=dark] .colab-df-convert {\n",
              "      background-color: #3B4455;\n",
              "      fill: #D2E3FC;\n",
              "    }\n",
              "\n",
              "    [theme=dark] .colab-df-convert:hover {\n",
              "      background-color: #434B5C;\n",
              "      box-shadow: 0px 1px 3px 1px rgba(0, 0, 0, 0.15);\n",
              "      filter: drop-shadow(0px 1px 2px rgba(0, 0, 0, 0.3));\n",
              "      fill: #FFFFFF;\n",
              "    }\n",
              "  </style>\n",
              "\n",
              "    <script>\n",
              "      const buttonEl =\n",
              "        document.querySelector('#df-f8b9b0a0-2545-444c-a0cf-97f9a8b3ee58 button.colab-df-convert');\n",
              "      buttonEl.style.display =\n",
              "        google.colab.kernel.accessAllowed ? 'block' : 'none';\n",
              "\n",
              "      async function convertToInteractive(key) {\n",
              "        const element = document.querySelector('#df-f8b9b0a0-2545-444c-a0cf-97f9a8b3ee58');\n",
              "        const dataTable =\n",
              "          await google.colab.kernel.invokeFunction('convertToInteractive',\n",
              "                                                    [key], {});\n",
              "        if (!dataTable) return;\n",
              "\n",
              "        const docLinkHtml = 'Like what you see? Visit the ' +\n",
              "          '<a target=\"_blank\" href=https://colab.research.google.com/notebooks/data_table.ipynb>data table notebook</a>'\n",
              "          + ' to learn more about interactive tables.';\n",
              "        element.innerHTML = '';\n",
              "        dataTable['output_type'] = 'display_data';\n",
              "        await google.colab.output.renderOutput(dataTable, element);\n",
              "        const docLink = document.createElement('div');\n",
              "        docLink.innerHTML = docLinkHtml;\n",
              "        element.appendChild(docLink);\n",
              "      }\n",
              "    </script>\n",
              "  </div>\n",
              "\n",
              "\n",
              "    <div id=\"df-e45b7bc3-a45c-4043-8ad4-5443559ad731\">\n",
              "      <button class=\"colab-df-quickchart\" onclick=\"quickchart('df-e45b7bc3-a45c-4043-8ad4-5443559ad731')\"\n",
              "                title=\"Suggest charts\"\n",
              "                style=\"display:none;\">\n",
              "\n",
              "<svg xmlns=\"http://www.w3.org/2000/svg\" height=\"24px\"viewBox=\"0 0 24 24\"\n",
              "     width=\"24px\">\n",
              "    <g>\n",
              "        <path d=\"M19 3H5c-1.1 0-2 .9-2 2v14c0 1.1.9 2 2 2h14c1.1 0 2-.9 2-2V5c0-1.1-.9-2-2-2zM9 17H7v-7h2v7zm4 0h-2V7h2v10zm4 0h-2v-4h2v4z\"/>\n",
              "    </g>\n",
              "</svg>\n",
              "      </button>\n",
              "\n",
              "<style>\n",
              "  .colab-df-quickchart {\n",
              "      --bg-color: #E8F0FE;\n",
              "      --fill-color: #1967D2;\n",
              "      --hover-bg-color: #E2EBFA;\n",
              "      --hover-fill-color: #174EA6;\n",
              "      --disabled-fill-color: #AAA;\n",
              "      --disabled-bg-color: #DDD;\n",
              "  }\n",
              "\n",
              "  [theme=dark] .colab-df-quickchart {\n",
              "      --bg-color: #3B4455;\n",
              "      --fill-color: #D2E3FC;\n",
              "      --hover-bg-color: #434B5C;\n",
              "      --hover-fill-color: #FFFFFF;\n",
              "      --disabled-bg-color: #3B4455;\n",
              "      --disabled-fill-color: #666;\n",
              "  }\n",
              "\n",
              "  .colab-df-quickchart {\n",
              "    background-color: var(--bg-color);\n",
              "    border: none;\n",
              "    border-radius: 50%;\n",
              "    cursor: pointer;\n",
              "    display: none;\n",
              "    fill: var(--fill-color);\n",
              "    height: 32px;\n",
              "    padding: 0;\n",
              "    width: 32px;\n",
              "  }\n",
              "\n",
              "  .colab-df-quickchart:hover {\n",
              "    background-color: var(--hover-bg-color);\n",
              "    box-shadow: 0 1px 2px rgba(60, 64, 67, 0.3), 0 1px 3px 1px rgba(60, 64, 67, 0.15);\n",
              "    fill: var(--button-hover-fill-color);\n",
              "  }\n",
              "\n",
              "  .colab-df-quickchart-complete:disabled,\n",
              "  .colab-df-quickchart-complete:disabled:hover {\n",
              "    background-color: var(--disabled-bg-color);\n",
              "    fill: var(--disabled-fill-color);\n",
              "    box-shadow: none;\n",
              "  }\n",
              "\n",
              "  .colab-df-spinner {\n",
              "    border: 2px solid var(--fill-color);\n",
              "    border-color: transparent;\n",
              "    border-bottom-color: var(--fill-color);\n",
              "    animation:\n",
              "      spin 1s steps(1) infinite;\n",
              "  }\n",
              "\n",
              "  @keyframes spin {\n",
              "    0% {\n",
              "      border-color: transparent;\n",
              "      border-bottom-color: var(--fill-color);\n",
              "      border-left-color: var(--fill-color);\n",
              "    }\n",
              "    20% {\n",
              "      border-color: transparent;\n",
              "      border-left-color: var(--fill-color);\n",
              "      border-top-color: var(--fill-color);\n",
              "    }\n",
              "    30% {\n",
              "      border-color: transparent;\n",
              "      border-left-color: var(--fill-color);\n",
              "      border-top-color: var(--fill-color);\n",
              "      border-right-color: var(--fill-color);\n",
              "    }\n",
              "    40% {\n",
              "      border-color: transparent;\n",
              "      border-right-color: var(--fill-color);\n",
              "      border-top-color: var(--fill-color);\n",
              "    }\n",
              "    60% {\n",
              "      border-color: transparent;\n",
              "      border-right-color: var(--fill-color);\n",
              "    }\n",
              "    80% {\n",
              "      border-color: transparent;\n",
              "      border-right-color: var(--fill-color);\n",
              "      border-bottom-color: var(--fill-color);\n",
              "    }\n",
              "    90% {\n",
              "      border-color: transparent;\n",
              "      border-bottom-color: var(--fill-color);\n",
              "    }\n",
              "  }\n",
              "</style>\n",
              "\n",
              "      <script>\n",
              "        async function quickchart(key) {\n",
              "          const quickchartButtonEl =\n",
              "            document.querySelector('#' + key + ' button');\n",
              "          quickchartButtonEl.disabled = true;  // To prevent multiple clicks.\n",
              "          quickchartButtonEl.classList.add('colab-df-spinner');\n",
              "          try {\n",
              "            const charts = await google.colab.kernel.invokeFunction(\n",
              "                'suggestCharts', [key], {});\n",
              "          } catch (error) {\n",
              "            console.error('Error during call to suggestCharts:', error);\n",
              "          }\n",
              "          quickchartButtonEl.classList.remove('colab-df-spinner');\n",
              "          quickchartButtonEl.classList.add('colab-df-quickchart-complete');\n",
              "        }\n",
              "        (() => {\n",
              "          let quickchartButtonEl =\n",
              "            document.querySelector('#df-e45b7bc3-a45c-4043-8ad4-5443559ad731 button');\n",
              "          quickchartButtonEl.style.display =\n",
              "            google.colab.kernel.accessAllowed ? 'block' : 'none';\n",
              "        })();\n",
              "      </script>\n",
              "    </div>\n",
              "\n",
              "    </div>\n",
              "  </div>\n"
            ],
            "application/vnd.google.colaboratory.intrinsic+json": {
              "type": "dataframe",
              "variable_name": "data"
            }
          },
          "metadata": {},
          "execution_count": 6
        }
      ]
    },
    {
      "cell_type": "code",
      "source": [
        "print(data.shape)    # stampiamo il numero di righe e colonne\n",
        "print(data.info())   # controlliamo i tipi di dato e valori nulli\n"
      ],
      "metadata": {
        "colab": {
          "base_uri": "https://localhost:8080/"
        },
        "id": "ivgLbqf9z5io",
        "outputId": "b75d5184-414d-46d8-ce23-24657f2de7b6"
      },
      "execution_count": 7,
      "outputs": [
        {
          "output_type": "stream",
          "name": "stdout",
          "text": [
            "(22165610, 21)\n",
            "<class 'pandas.core.frame.DataFrame'>\n",
            "RangeIndex: 22165610 entries, 0 to 22165609\n",
            "Data columns (total 21 columns):\n",
            " #   Column       Dtype  \n",
            "---  ------       -----  \n",
            " 0   Unnamed: 0   int64  \n",
            " 1   type         int64  \n",
            " 2   rcvTime      float64\n",
            " 3   pos_0        float64\n",
            " 4   pos_1        float64\n",
            " 5   pos_noise_0  float64\n",
            " 6   pos_noise_1  float64\n",
            " 7   spd_0        float64\n",
            " 8   spd_1        float64\n",
            " 9   spd_noise_0  float64\n",
            " 10  spd_noise_1  float64\n",
            " 11  acl_0        float64\n",
            " 12  acl_1        float64\n",
            " 13  acl_noise_0  float64\n",
            " 14  acl_noise_1  float64\n",
            " 15  hed_0        float64\n",
            " 16  hed_1        float64\n",
            " 17  hed_noise_0  float64\n",
            " 18  hed_noise_1  float64\n",
            " 19  attack       int64  \n",
            " 20  attack_type  object \n",
            "dtypes: float64(17), int64(3), object(1)\n",
            "memory usage: 3.5+ GB\n",
            "None\n"
          ]
        }
      ]
    },
    {
      "cell_type": "markdown",
      "source": [
        "Possiamo notare come non ci siano valori mancanti (NaN)"
      ],
      "metadata": {
        "id": "YxiRKeU91uid"
      }
    },
    {
      "cell_type": "code",
      "source": [
        "data.info(verbose=True, show_counts=True)\n"
      ],
      "metadata": {
        "colab": {
          "base_uri": "https://localhost:8080/"
        },
        "id": "gCzcWIfI1Qj9",
        "outputId": "c4a33b90-41fa-449e-fc9b-b4e8245a4b06"
      },
      "execution_count": 8,
      "outputs": [
        {
          "output_type": "stream",
          "name": "stdout",
          "text": [
            "<class 'pandas.core.frame.DataFrame'>\n",
            "RangeIndex: 22165610 entries, 0 to 22165609\n",
            "Data columns (total 21 columns):\n",
            " #   Column       Non-Null Count     Dtype  \n",
            "---  ------       --------------     -----  \n",
            " 0   Unnamed: 0   22165610 non-null  int64  \n",
            " 1   type         22165610 non-null  int64  \n",
            " 2   rcvTime      22165610 non-null  float64\n",
            " 3   pos_0        22165610 non-null  float64\n",
            " 4   pos_1        22165610 non-null  float64\n",
            " 5   pos_noise_0  22165610 non-null  float64\n",
            " 6   pos_noise_1  22165610 non-null  float64\n",
            " 7   spd_0        22165610 non-null  float64\n",
            " 8   spd_1        22165610 non-null  float64\n",
            " 9   spd_noise_0  22165610 non-null  float64\n",
            " 10  spd_noise_1  22165610 non-null  float64\n",
            " 11  acl_0        22165610 non-null  float64\n",
            " 12  acl_1        22165610 non-null  float64\n",
            " 13  acl_noise_0  22165610 non-null  float64\n",
            " 14  acl_noise_1  22165610 non-null  float64\n",
            " 15  hed_0        22165610 non-null  float64\n",
            " 16  hed_1        22165610 non-null  float64\n",
            " 17  hed_noise_0  22165610 non-null  float64\n",
            " 18  hed_noise_1  22165610 non-null  float64\n",
            " 19  attack       22165610 non-null  int64  \n",
            " 20  attack_type  22165610 non-null  object \n",
            "dtypes: float64(17), int64(3), object(1)\n",
            "memory usage: 3.5+ GB\n"
          ]
        }
      ]
    },
    {
      "cell_type": "markdown",
      "source": [
        "# Controllo e gestione dei duplicati"
      ],
      "metadata": {
        "id": "v27gKUSA35rU"
      }
    },
    {
      "cell_type": "markdown",
      "source": [
        "Osseriviamo che nel dataset non sono presenti righe duplicate e quindi non svolgiamo alcuna operazione di rimozione"
      ],
      "metadata": {
        "id": "lshEW43C5K18"
      }
    },
    {
      "cell_type": "code",
      "source": [
        "# Conto quante righe duplicate ci sono\n",
        "num_duplicati = data.duplicated().sum()\n",
        "print(f\"Numero di righe duplicate: {num_duplicati}\")\n",
        "\n",
        "# visualizzo le righe duplicate se > 0\n",
        "if num_duplicati > 0:\n",
        "    display(data[data.duplicated()].head())"
      ],
      "metadata": {
        "colab": {
          "base_uri": "https://localhost:8080/"
        },
        "id": "X6PEvRkI4BsV",
        "outputId": "004da220-b519-4189-aadb-b8fa828be048"
      },
      "execution_count": 9,
      "outputs": [
        {
          "output_type": "stream",
          "name": "stdout",
          "text": [
            "Numero di righe duplicate: 0\n"
          ]
        }
      ]
    },
    {
      "cell_type": "markdown",
      "source": [
        "# Analisi dei campi"
      ],
      "metadata": {
        "id": "xostvdXp6ntx"
      }
    },
    {
      "cell_type": "code",
      "source": [
        "# visualizzo i nomi di ciascun campo\n",
        "for col in data.columns:\n",
        "    print(col)\n"
      ],
      "metadata": {
        "colab": {
          "base_uri": "https://localhost:8080/"
        },
        "id": "F5xBM_An-9OA",
        "outputId": "4c0c0238-7aed-493f-cc11-b6ad5df8cd09"
      },
      "execution_count": 10,
      "outputs": [
        {
          "output_type": "stream",
          "name": "stdout",
          "text": [
            "Unnamed: 0\n",
            "type\n",
            "rcvTime\n",
            "pos_0\n",
            "pos_1\n",
            "pos_noise_0\n",
            "pos_noise_1\n",
            "spd_0\n",
            "spd_1\n",
            "spd_noise_0\n",
            "spd_noise_1\n",
            "acl_0\n",
            "acl_1\n",
            "acl_noise_0\n",
            "acl_noise_1\n",
            "hed_0\n",
            "hed_1\n",
            "hed_noise_0\n",
            "hed_noise_1\n",
            "attack\n",
            "attack_type\n"
          ]
        }
      ]
    },
    {
      "cell_type": "markdown",
      "source": [
        "Rimuovo campi irrilevanti (Unnamed) e tutte le colonne relative al rumore , informazioni non utilizzabili in un contesto reale. Mantengo invece le feature che includono position, speed, acceleration e heading del veicolo trasmittente che sono parametri a cui un sistema di rilevamento di misbehaviour detection ha accesso quando analizza i messaggi"
      ],
      "metadata": {
        "id": "s5a7xrOv6xwB"
      }
    },
    {
      "cell_type": "code",
      "source": [
        "# Lista delle colonne da rimuovere (nomi esatti dal dataset)\n",
        "cols_to_remove = [\n",
        "    'Unnamed: 0',\n",
        "    'pos_noise_0', 'pos_noise_1',\n",
        "    'spd_noise_0', 'spd_noise_1'\n",
        "    'acl_noise_0', 'acl_noise_1',\n",
        "    'hed_noise_0', 'hed_noise_1'\n",
        "]\n",
        "\n",
        "# Tiene solo quelle che esistono effettivamente in un contesto reale\n",
        "cols_to_remove = [c for c in cols_to_remove if c in data.columns]\n",
        "\n",
        "# Rimozione colonne\n",
        "data = data.drop(columns=cols_to_remove)\n",
        "\n",
        "print(\"Colonne rimanenti dopo la rimozione:\")\n",
        "print(data.columns)\n"
      ],
      "metadata": {
        "colab": {
          "base_uri": "https://localhost:8080/"
        },
        "id": "H1juQiW8F9bk",
        "outputId": "6f651842-5dc1-4270-bb5c-396bb6d878ef"
      },
      "execution_count": 11,
      "outputs": [
        {
          "output_type": "stream",
          "name": "stdout",
          "text": [
            "Colonne rimanenti dopo la rimozione:\n",
            "Index(['type', 'rcvTime', 'pos_0', 'pos_1', 'spd_0', 'spd_1', 'spd_noise_1',\n",
            "       'acl_0', 'acl_1', 'acl_noise_0', 'hed_0', 'hed_1', 'attack',\n",
            "       'attack_type'],\n",
            "      dtype='object')\n"
          ]
        }
      ]
    },
    {
      "cell_type": "code",
      "source": [
        "data = data.drop(columns=['spd_noise_1'], errors='ignore')\n",
        "data = data.drop(columns=['acl_noise_0'], errors='ignore')\n",
        "print(data.columns)"
      ],
      "metadata": {
        "colab": {
          "base_uri": "https://localhost:8080/"
        },
        "id": "UKNfEnhmGaqS",
        "outputId": "21d03b50-3627-431c-e735-f1ed66a68f7c"
      },
      "execution_count": 12,
      "outputs": [
        {
          "output_type": "stream",
          "name": "stdout",
          "text": [
            "Index(['type', 'rcvTime', 'pos_0', 'pos_1', 'spd_0', 'spd_1', 'acl_0', 'acl_1',\n",
            "       'hed_0', 'hed_1', 'attack', 'attack_type'],\n",
            "      dtype='object')\n"
          ]
        }
      ]
    },
    {
      "cell_type": "markdown",
      "source": [
        "il dataset contiene due tipologie di messaggi: i messaggi BSM e gli aggiornamenti GPS locali. Per rendere i dati più realistici e utilizzabili in uno scenario reale, gli aggiornamenti GPS locali (type = 2) vengono esclusi in quanto non sono messaggi ricevuti e non vengono utilizzati dai rilevatori di misbehaviour detection. Filtro il dataset per mantenere solo i messaggi BSM (type = 3)"
      ],
      "metadata": {
        "id": "ePyfXtBIHb8y"
      }
    },
    {
      "cell_type": "code",
      "source": [
        "# Filtro solo i messaggi ricevuti (type=3)\n",
        "data = data[data['type'] == 3].copy()\n",
        "\n",
        "# Ora posso rimuovere la colonna 'type' perché è tutta uguale\n",
        "data = data.drop(columns=['type'])\n",
        "\n",
        "print(\"Shape aggiornato:\", data.shape)\n",
        "print(data.head())"
      ],
      "metadata": {
        "colab": {
          "base_uri": "https://localhost:8080/"
        },
        "id": "khQ91XTYIUcp",
        "outputId": "d5dd3aee-f4d1-4e0a-eb0e-bbd2d9668dec"
      },
      "execution_count": 13,
      "outputs": [
        {
          "output_type": "stream",
          "name": "stdout",
          "text": [
            "Shape aggiornato: (19112335, 11)\n",
            "        rcvTime        pos_0       pos_1      spd_0     spd_1     acl_0  \\\n",
            "0  27371.216284   981.098535  908.497891 -17.723786 -2.154895 -0.248402   \n",
            "1  52060.561117  1213.025174  984.277524  14.504808  2.605276 -0.653850   \n",
            "2  28156.319142   140.514133  944.338854  -0.346027  4.671520  0.333247   \n",
            "3  28671.375689   558.005547  327.316562  11.792797  4.028876 -0.030639   \n",
            "5  26744.418540   262.104367  223.655554   8.191847  1.916282  1.406962   \n",
            "\n",
            "      acl_1     hed_0     hed_1  attack        attack_type  \n",
            "0 -0.177659 -0.971331 -0.237732       0  RandomSpeedOffset  \n",
            "1 -0.117125  0.992578  0.121610       0         DataReplay  \n",
            "2 -4.486889  0.256103  0.966649       1      DoSDisruptive  \n",
            "3 -0.010265  0.954113  0.299446       1  RandomSpeedOffset  \n",
            "5  0.329413  0.983696  0.179842       1          GridSybil  \n"
          ]
        }
      ]
    },
    {
      "cell_type": "code",
      "source": [
        "data.head()"
      ],
      "metadata": {
        "colab": {
          "base_uri": "https://localhost:8080/",
          "height": 260
        },
        "id": "TCF3ZoguJh3G",
        "outputId": "4cb16e93-fc59-42c4-ca04-5cb07fcc07e7"
      },
      "execution_count": 14,
      "outputs": [
        {
          "output_type": "execute_result",
          "data": {
            "text/plain": [
              "        rcvTime        pos_0       pos_1      spd_0     spd_1     acl_0  \\\n",
              "0  27371.216284   981.098535  908.497891 -17.723786 -2.154895 -0.248402   \n",
              "1  52060.561117  1213.025174  984.277524  14.504808  2.605276 -0.653850   \n",
              "2  28156.319142   140.514133  944.338854  -0.346027  4.671520  0.333247   \n",
              "3  28671.375689   558.005547  327.316562  11.792797  4.028876 -0.030639   \n",
              "5  26744.418540   262.104367  223.655554   8.191847  1.916282  1.406962   \n",
              "\n",
              "      acl_1     hed_0     hed_1  attack        attack_type  \n",
              "0 -0.177659 -0.971331 -0.237732       0  RandomSpeedOffset  \n",
              "1 -0.117125  0.992578  0.121610       0         DataReplay  \n",
              "2 -4.486889  0.256103  0.966649       1      DoSDisruptive  \n",
              "3 -0.010265  0.954113  0.299446       1  RandomSpeedOffset  \n",
              "5  0.329413  0.983696  0.179842       1          GridSybil  "
            ],
            "text/html": [
              "\n",
              "  <div id=\"df-175ab28e-900d-4804-afa8-c45965cfad8b\" class=\"colab-df-container\">\n",
              "    <div>\n",
              "<style scoped>\n",
              "    .dataframe tbody tr th:only-of-type {\n",
              "        vertical-align: middle;\n",
              "    }\n",
              "\n",
              "    .dataframe tbody tr th {\n",
              "        vertical-align: top;\n",
              "    }\n",
              "\n",
              "    .dataframe thead th {\n",
              "        text-align: right;\n",
              "    }\n",
              "</style>\n",
              "<table border=\"1\" class=\"dataframe\">\n",
              "  <thead>\n",
              "    <tr style=\"text-align: right;\">\n",
              "      <th></th>\n",
              "      <th>rcvTime</th>\n",
              "      <th>pos_0</th>\n",
              "      <th>pos_1</th>\n",
              "      <th>spd_0</th>\n",
              "      <th>spd_1</th>\n",
              "      <th>acl_0</th>\n",
              "      <th>acl_1</th>\n",
              "      <th>hed_0</th>\n",
              "      <th>hed_1</th>\n",
              "      <th>attack</th>\n",
              "      <th>attack_type</th>\n",
              "    </tr>\n",
              "  </thead>\n",
              "  <tbody>\n",
              "    <tr>\n",
              "      <th>0</th>\n",
              "      <td>27371.216284</td>\n",
              "      <td>981.098535</td>\n",
              "      <td>908.497891</td>\n",
              "      <td>-17.723786</td>\n",
              "      <td>-2.154895</td>\n",
              "      <td>-0.248402</td>\n",
              "      <td>-0.177659</td>\n",
              "      <td>-0.971331</td>\n",
              "      <td>-0.237732</td>\n",
              "      <td>0</td>\n",
              "      <td>RandomSpeedOffset</td>\n",
              "    </tr>\n",
              "    <tr>\n",
              "      <th>1</th>\n",
              "      <td>52060.561117</td>\n",
              "      <td>1213.025174</td>\n",
              "      <td>984.277524</td>\n",
              "      <td>14.504808</td>\n",
              "      <td>2.605276</td>\n",
              "      <td>-0.653850</td>\n",
              "      <td>-0.117125</td>\n",
              "      <td>0.992578</td>\n",
              "      <td>0.121610</td>\n",
              "      <td>0</td>\n",
              "      <td>DataReplay</td>\n",
              "    </tr>\n",
              "    <tr>\n",
              "      <th>2</th>\n",
              "      <td>28156.319142</td>\n",
              "      <td>140.514133</td>\n",
              "      <td>944.338854</td>\n",
              "      <td>-0.346027</td>\n",
              "      <td>4.671520</td>\n",
              "      <td>0.333247</td>\n",
              "      <td>-4.486889</td>\n",
              "      <td>0.256103</td>\n",
              "      <td>0.966649</td>\n",
              "      <td>1</td>\n",
              "      <td>DoSDisruptive</td>\n",
              "    </tr>\n",
              "    <tr>\n",
              "      <th>3</th>\n",
              "      <td>28671.375689</td>\n",
              "      <td>558.005547</td>\n",
              "      <td>327.316562</td>\n",
              "      <td>11.792797</td>\n",
              "      <td>4.028876</td>\n",
              "      <td>-0.030639</td>\n",
              "      <td>-0.010265</td>\n",
              "      <td>0.954113</td>\n",
              "      <td>0.299446</td>\n",
              "      <td>1</td>\n",
              "      <td>RandomSpeedOffset</td>\n",
              "    </tr>\n",
              "    <tr>\n",
              "      <th>5</th>\n",
              "      <td>26744.418540</td>\n",
              "      <td>262.104367</td>\n",
              "      <td>223.655554</td>\n",
              "      <td>8.191847</td>\n",
              "      <td>1.916282</td>\n",
              "      <td>1.406962</td>\n",
              "      <td>0.329413</td>\n",
              "      <td>0.983696</td>\n",
              "      <td>0.179842</td>\n",
              "      <td>1</td>\n",
              "      <td>GridSybil</td>\n",
              "    </tr>\n",
              "  </tbody>\n",
              "</table>\n",
              "</div>\n",
              "    <div class=\"colab-df-buttons\">\n",
              "\n",
              "  <div class=\"colab-df-container\">\n",
              "    <button class=\"colab-df-convert\" onclick=\"convertToInteractive('df-175ab28e-900d-4804-afa8-c45965cfad8b')\"\n",
              "            title=\"Convert this dataframe to an interactive table.\"\n",
              "            style=\"display:none;\">\n",
              "\n",
              "  <svg xmlns=\"http://www.w3.org/2000/svg\" height=\"24px\" viewBox=\"0 -960 960 960\">\n",
              "    <path d=\"M120-120v-720h720v720H120Zm60-500h600v-160H180v160Zm220 220h160v-160H400v160Zm0 220h160v-160H400v160ZM180-400h160v-160H180v160Zm440 0h160v-160H620v160ZM180-180h160v-160H180v160Zm440 0h160v-160H620v160Z\"/>\n",
              "  </svg>\n",
              "    </button>\n",
              "\n",
              "  <style>\n",
              "    .colab-df-container {\n",
              "      display:flex;\n",
              "      gap: 12px;\n",
              "    }\n",
              "\n",
              "    .colab-df-convert {\n",
              "      background-color: #E8F0FE;\n",
              "      border: none;\n",
              "      border-radius: 50%;\n",
              "      cursor: pointer;\n",
              "      display: none;\n",
              "      fill: #1967D2;\n",
              "      height: 32px;\n",
              "      padding: 0 0 0 0;\n",
              "      width: 32px;\n",
              "    }\n",
              "\n",
              "    .colab-df-convert:hover {\n",
              "      background-color: #E2EBFA;\n",
              "      box-shadow: 0px 1px 2px rgba(60, 64, 67, 0.3), 0px 1px 3px 1px rgba(60, 64, 67, 0.15);\n",
              "      fill: #174EA6;\n",
              "    }\n",
              "\n",
              "    .colab-df-buttons div {\n",
              "      margin-bottom: 4px;\n",
              "    }\n",
              "\n",
              "    [theme=dark] .colab-df-convert {\n",
              "      background-color: #3B4455;\n",
              "      fill: #D2E3FC;\n",
              "    }\n",
              "\n",
              "    [theme=dark] .colab-df-convert:hover {\n",
              "      background-color: #434B5C;\n",
              "      box-shadow: 0px 1px 3px 1px rgba(0, 0, 0, 0.15);\n",
              "      filter: drop-shadow(0px 1px 2px rgba(0, 0, 0, 0.3));\n",
              "      fill: #FFFFFF;\n",
              "    }\n",
              "  </style>\n",
              "\n",
              "    <script>\n",
              "      const buttonEl =\n",
              "        document.querySelector('#df-175ab28e-900d-4804-afa8-c45965cfad8b button.colab-df-convert');\n",
              "      buttonEl.style.display =\n",
              "        google.colab.kernel.accessAllowed ? 'block' : 'none';\n",
              "\n",
              "      async function convertToInteractive(key) {\n",
              "        const element = document.querySelector('#df-175ab28e-900d-4804-afa8-c45965cfad8b');\n",
              "        const dataTable =\n",
              "          await google.colab.kernel.invokeFunction('convertToInteractive',\n",
              "                                                    [key], {});\n",
              "        if (!dataTable) return;\n",
              "\n",
              "        const docLinkHtml = 'Like what you see? Visit the ' +\n",
              "          '<a target=\"_blank\" href=https://colab.research.google.com/notebooks/data_table.ipynb>data table notebook</a>'\n",
              "          + ' to learn more about interactive tables.';\n",
              "        element.innerHTML = '';\n",
              "        dataTable['output_type'] = 'display_data';\n",
              "        await google.colab.output.renderOutput(dataTable, element);\n",
              "        const docLink = document.createElement('div');\n",
              "        docLink.innerHTML = docLinkHtml;\n",
              "        element.appendChild(docLink);\n",
              "      }\n",
              "    </script>\n",
              "  </div>\n",
              "\n",
              "\n",
              "    <div id=\"df-af9c3e2a-5d79-4d86-8cad-3cb3bdc4af62\">\n",
              "      <button class=\"colab-df-quickchart\" onclick=\"quickchart('df-af9c3e2a-5d79-4d86-8cad-3cb3bdc4af62')\"\n",
              "                title=\"Suggest charts\"\n",
              "                style=\"display:none;\">\n",
              "\n",
              "<svg xmlns=\"http://www.w3.org/2000/svg\" height=\"24px\"viewBox=\"0 0 24 24\"\n",
              "     width=\"24px\">\n",
              "    <g>\n",
              "        <path d=\"M19 3H5c-1.1 0-2 .9-2 2v14c0 1.1.9 2 2 2h14c1.1 0 2-.9 2-2V5c0-1.1-.9-2-2-2zM9 17H7v-7h2v7zm4 0h-2V7h2v10zm4 0h-2v-4h2v4z\"/>\n",
              "    </g>\n",
              "</svg>\n",
              "      </button>\n",
              "\n",
              "<style>\n",
              "  .colab-df-quickchart {\n",
              "      --bg-color: #E8F0FE;\n",
              "      --fill-color: #1967D2;\n",
              "      --hover-bg-color: #E2EBFA;\n",
              "      --hover-fill-color: #174EA6;\n",
              "      --disabled-fill-color: #AAA;\n",
              "      --disabled-bg-color: #DDD;\n",
              "  }\n",
              "\n",
              "  [theme=dark] .colab-df-quickchart {\n",
              "      --bg-color: #3B4455;\n",
              "      --fill-color: #D2E3FC;\n",
              "      --hover-bg-color: #434B5C;\n",
              "      --hover-fill-color: #FFFFFF;\n",
              "      --disabled-bg-color: #3B4455;\n",
              "      --disabled-fill-color: #666;\n",
              "  }\n",
              "\n",
              "  .colab-df-quickchart {\n",
              "    background-color: var(--bg-color);\n",
              "    border: none;\n",
              "    border-radius: 50%;\n",
              "    cursor: pointer;\n",
              "    display: none;\n",
              "    fill: var(--fill-color);\n",
              "    height: 32px;\n",
              "    padding: 0;\n",
              "    width: 32px;\n",
              "  }\n",
              "\n",
              "  .colab-df-quickchart:hover {\n",
              "    background-color: var(--hover-bg-color);\n",
              "    box-shadow: 0 1px 2px rgba(60, 64, 67, 0.3), 0 1px 3px 1px rgba(60, 64, 67, 0.15);\n",
              "    fill: var(--button-hover-fill-color);\n",
              "  }\n",
              "\n",
              "  .colab-df-quickchart-complete:disabled,\n",
              "  .colab-df-quickchart-complete:disabled:hover {\n",
              "    background-color: var(--disabled-bg-color);\n",
              "    fill: var(--disabled-fill-color);\n",
              "    box-shadow: none;\n",
              "  }\n",
              "\n",
              "  .colab-df-spinner {\n",
              "    border: 2px solid var(--fill-color);\n",
              "    border-color: transparent;\n",
              "    border-bottom-color: var(--fill-color);\n",
              "    animation:\n",
              "      spin 1s steps(1) infinite;\n",
              "  }\n",
              "\n",
              "  @keyframes spin {\n",
              "    0% {\n",
              "      border-color: transparent;\n",
              "      border-bottom-color: var(--fill-color);\n",
              "      border-left-color: var(--fill-color);\n",
              "    }\n",
              "    20% {\n",
              "      border-color: transparent;\n",
              "      border-left-color: var(--fill-color);\n",
              "      border-top-color: var(--fill-color);\n",
              "    }\n",
              "    30% {\n",
              "      border-color: transparent;\n",
              "      border-left-color: var(--fill-color);\n",
              "      border-top-color: var(--fill-color);\n",
              "      border-right-color: var(--fill-color);\n",
              "    }\n",
              "    40% {\n",
              "      border-color: transparent;\n",
              "      border-right-color: var(--fill-color);\n",
              "      border-top-color: var(--fill-color);\n",
              "    }\n",
              "    60% {\n",
              "      border-color: transparent;\n",
              "      border-right-color: var(--fill-color);\n",
              "    }\n",
              "    80% {\n",
              "      border-color: transparent;\n",
              "      border-right-color: var(--fill-color);\n",
              "      border-bottom-color: var(--fill-color);\n",
              "    }\n",
              "    90% {\n",
              "      border-color: transparent;\n",
              "      border-bottom-color: var(--fill-color);\n",
              "    }\n",
              "  }\n",
              "</style>\n",
              "\n",
              "      <script>\n",
              "        async function quickchart(key) {\n",
              "          const quickchartButtonEl =\n",
              "            document.querySelector('#' + key + ' button');\n",
              "          quickchartButtonEl.disabled = true;  // To prevent multiple clicks.\n",
              "          quickchartButtonEl.classList.add('colab-df-spinner');\n",
              "          try {\n",
              "            const charts = await google.colab.kernel.invokeFunction(\n",
              "                'suggestCharts', [key], {});\n",
              "          } catch (error) {\n",
              "            console.error('Error during call to suggestCharts:', error);\n",
              "          }\n",
              "          quickchartButtonEl.classList.remove('colab-df-spinner');\n",
              "          quickchartButtonEl.classList.add('colab-df-quickchart-complete');\n",
              "        }\n",
              "        (() => {\n",
              "          let quickchartButtonEl =\n",
              "            document.querySelector('#df-af9c3e2a-5d79-4d86-8cad-3cb3bdc4af62 button');\n",
              "          quickchartButtonEl.style.display =\n",
              "            google.colab.kernel.accessAllowed ? 'block' : 'none';\n",
              "        })();\n",
              "      </script>\n",
              "    </div>\n",
              "\n",
              "    </div>\n",
              "  </div>\n"
            ],
            "application/vnd.google.colaboratory.intrinsic+json": {
              "type": "dataframe",
              "variable_name": "data"
            }
          },
          "metadata": {},
          "execution_count": 14
        }
      ]
    },
    {
      "cell_type": "markdown",
      "source": [
        "# Identificazione degli attacchi presenti"
      ],
      "metadata": {
        "id": "dqj9wDhKvEHx"
      }
    },
    {
      "cell_type": "markdown",
      "source": [
        "Nel dataset fornito ho riscontrato la presenza di un numero di scenari di attacco maggiore rispetto ai cinque attacchi “default” citati nella documentazione originale del VeReMi. Nel dasaset originale vengono descritti solo attacchi di falsificazione della posizione: constpost, constposoffset, randompos, randomposoffset, eventualstop. Gli attacchi aggiuntivi nel dataset importato da kaggle possono derivare da scenari simulati extra e quindi ho filtrato il dataset mantenendo i 5 scenari di falsificazione della posizione relativi sia ai messaggi benigni con attack = 0 e malevoli con attack = 1"
      ],
      "metadata": {
        "id": "Xvo5PPataqpw"
      }
    },
    {
      "cell_type": "markdown",
      "source": [],
      "metadata": {
        "id": "Rtb7esb_afqB"
      }
    },
    {
      "cell_type": "code",
      "source": [
        "# Tutti i tipi unici di attacco nel dataset\n",
        "attack_types = data['attack_type'].astype(str).str.strip().str.lower().unique()\n",
        "print(\"Tipi di attacco presenti nel dataset:\")\n",
        "for att in attack_types:\n",
        "    print(\"-\", att)\n"
      ],
      "metadata": {
        "colab": {
          "base_uri": "https://localhost:8080/"
        },
        "id": "kT8EptOyvCKa",
        "outputId": "72247095-ef52-4a74-c36c-53b4ecd31227"
      },
      "execution_count": 15,
      "outputs": [
        {
          "output_type": "stream",
          "name": "stdout",
          "text": [
            "Tipi di attacco presenti nel dataset:\n",
            "- randomspeedoffset\n",
            "- datareplay\n",
            "- dosdisruptive\n",
            "- gridsybil\n",
            "- constposoffset\n",
            "- datareplaysybil\n",
            "- delayedmessages\n",
            "- constspeedoffset\n",
            "- dosdisruptivesybil\n",
            "- randomposoffset\n",
            "- eventualstop\n",
            "- randomspeed\n",
            "- constpos\n",
            "- constspeed\n",
            "- randompos\n",
            "- dosrandom\n",
            "- dos\n",
            "- dosrandomsybil\n",
            "- disruptive\n"
          ]
        }
      ]
    },
    {
      "cell_type": "markdown",
      "source": [
        "filtro il dataset mantenendo i cinque scenari di attacco “default” definiti nel paper"
      ],
      "metadata": {
        "id": "w5sxo_7V2CDa"
      }
    },
    {
      "cell_type": "code",
      "source": [
        "keep = [\n",
        "    \"constpos\",          # constant\n",
        "    \"constposoffset\",    # constant offset\n",
        "    \"randompos\",         # random\n",
        "    \"randomposoffset\",   # random offset\n",
        "    \"eventualstop\"       # eventual stop\n",
        "]\n",
        "\n",
        "# Normalizzo i nomi\n",
        "data['attack_type'] = data['attack_type'].astype(str).str.strip().str.lower()\n",
        "\n",
        "# Filtro solo i 5 attacchi, mantenendo attack=0 e attack=1\n",
        "data_filtered = data[data['attack_type'].isin(keep)]"
      ],
      "metadata": {
        "id": "xAsyTWc_27Il"
      },
      "execution_count": 16,
      "outputs": []
    },
    {
      "cell_type": "markdown",
      "source": [
        "verifico l’effetto della selezione sui dati."
      ],
      "metadata": {
        "id": "mp3YeUpc3UV4"
      }
    },
    {
      "cell_type": "code",
      "source": [
        "print(\"Righe prima della selezione:\", len(data))\n",
        "print(\"Righe dopo filtro:\", len(data_filtered))\n",
        "print(\"\\nDistribuzione per tipo di attacco (comprende attack=0 e 1):\")\n",
        "print(data_filtered['attack_type'].value_counts())"
      ],
      "metadata": {
        "colab": {
          "base_uri": "https://localhost:8080/"
        },
        "id": "FNHltIcD3WhG",
        "outputId": "393d35f6-59ac-4014-9e95-07557a1f3be2"
      },
      "execution_count": 17,
      "outputs": [
        {
          "output_type": "stream",
          "name": "stdout",
          "text": [
            "Righe prima della selezione: 19112335\n",
            "Righe dopo filtro: 4845815\n",
            "\n",
            "Distribuzione per tipo di attacco (comprende attack=0 e 1):\n",
            "attack_type\n",
            "constposoffset     969163\n",
            "randomposoffset    969163\n",
            "eventualstop       969163\n",
            "constpos           969163\n",
            "randompos          969163\n",
            "Name: count, dtype: int64\n"
          ]
        }
      ]
    },
    {
      "cell_type": "markdown",
      "source": [
        "Dopo aver verificato il numero di righe prima e dopo il filtro e la distribuzione dei cinque attacchi di falsificazione della posizione, ho sovrascritto il DataFrame originale con la versione filtrata.\n"
      ],
      "metadata": {
        "id": "qcRqUq6s71-y"
      }
    },
    {
      "cell_type": "code",
      "source": [
        "# dataset filtrato\n",
        "data = data_filtered.reset_index(drop=True).copy()\n"
      ],
      "metadata": {
        "id": "809E7CEI8FXa"
      },
      "execution_count": 18,
      "outputs": []
    },
    {
      "cell_type": "code",
      "source": [
        "# Controlli rapidi\n",
        "print(\"Tipi unici dopo filtro:\", sorted(data['attack_type'].unique()))\n",
        "print(\"\\nDistribuzione attack (0=benigno, 1=attacco):\")\n",
        "print(data['attack'].value_counts())\n",
        "\n",
        "print(\"\\nDistribuzione per attack_type x attack:\")\n",
        "print(pd.crosstab(data['attack_type'], data['attack']))"
      ],
      "metadata": {
        "colab": {
          "base_uri": "https://localhost:8080/"
        },
        "id": "QG5FZemB8scF",
        "outputId": "27167a29-991a-4fe9-890d-134e9f91c8e3"
      },
      "execution_count": 19,
      "outputs": [
        {
          "output_type": "stream",
          "name": "stdout",
          "text": [
            "Tipi unici dopo filtro: ['constpos', 'constposoffset', 'eventualstop', 'randompos', 'randomposoffset']\n",
            "\n",
            "Distribuzione attack (0=benigno, 1=attacco):\n",
            "attack\n",
            "0    2696310\n",
            "1    2149505\n",
            "Name: count, dtype: int64\n",
            "\n",
            "Distribuzione per attack_type x attack:\n",
            "attack                0       1\n",
            "attack_type                    \n",
            "constpos         539262  429901\n",
            "constposoffset   539262  429901\n",
            "eventualstop     539262  429901\n",
            "randompos        539262  429901\n",
            "randomposoffset  539262  429901\n"
          ]
        }
      ]
    },
    {
      "cell_type": "code",
      "source": [
        "# controlli rapidi\n",
        "data.shape\n",
        "data.head()"
      ],
      "metadata": {
        "colab": {
          "base_uri": "https://localhost:8080/",
          "height": 260
        },
        "id": "f-4ya-k49XRj",
        "outputId": "14df4c07-4746-4975-a67e-3b429dffc1d2"
      },
      "execution_count": 20,
      "outputs": [
        {
          "output_type": "execute_result",
          "data": {
            "text/plain": [
              "        rcvTime        pos_0        pos_1      spd_0     spd_1     acl_0  \\\n",
              "0  50831.914564  1288.736480  1059.729123 -16.287118 -2.921455 -0.055350   \n",
              "1  26663.698218   498.583238   303.468778  13.394928  4.750152 -0.562873   \n",
              "2  52161.314993   266.572055    41.134647  -0.531761  5.146397 -0.274390   \n",
              "3  27659.392320   365.106961   257.518958  14.903867  5.368904 -0.080198   \n",
              "4  25623.210073   347.726613   483.105599  -9.744141 -7.657281  0.310752   \n",
              "\n",
              "      acl_1     hed_0     hed_1  attack      attack_type  \n",
              "0 -0.009209 -0.998074 -0.062034       0   constposoffset  \n",
              "1 -0.199565  0.950863  0.309613       0   constposoffset  \n",
              "2  2.655753 -0.095646  0.995415       0   constposoffset  \n",
              "3 -0.028698  0.954075  0.299568       1  randomposoffset  \n",
              "4  0.244477 -0.799141 -0.601144       0     eventualstop  "
            ],
            "text/html": [
              "\n",
              "  <div id=\"df-6ea5ce7a-8eb8-4349-9c8d-93794a8e04e1\" class=\"colab-df-container\">\n",
              "    <div>\n",
              "<style scoped>\n",
              "    .dataframe tbody tr th:only-of-type {\n",
              "        vertical-align: middle;\n",
              "    }\n",
              "\n",
              "    .dataframe tbody tr th {\n",
              "        vertical-align: top;\n",
              "    }\n",
              "\n",
              "    .dataframe thead th {\n",
              "        text-align: right;\n",
              "    }\n",
              "</style>\n",
              "<table border=\"1\" class=\"dataframe\">\n",
              "  <thead>\n",
              "    <tr style=\"text-align: right;\">\n",
              "      <th></th>\n",
              "      <th>rcvTime</th>\n",
              "      <th>pos_0</th>\n",
              "      <th>pos_1</th>\n",
              "      <th>spd_0</th>\n",
              "      <th>spd_1</th>\n",
              "      <th>acl_0</th>\n",
              "      <th>acl_1</th>\n",
              "      <th>hed_0</th>\n",
              "      <th>hed_1</th>\n",
              "      <th>attack</th>\n",
              "      <th>attack_type</th>\n",
              "    </tr>\n",
              "  </thead>\n",
              "  <tbody>\n",
              "    <tr>\n",
              "      <th>0</th>\n",
              "      <td>50831.914564</td>\n",
              "      <td>1288.736480</td>\n",
              "      <td>1059.729123</td>\n",
              "      <td>-16.287118</td>\n",
              "      <td>-2.921455</td>\n",
              "      <td>-0.055350</td>\n",
              "      <td>-0.009209</td>\n",
              "      <td>-0.998074</td>\n",
              "      <td>-0.062034</td>\n",
              "      <td>0</td>\n",
              "      <td>constposoffset</td>\n",
              "    </tr>\n",
              "    <tr>\n",
              "      <th>1</th>\n",
              "      <td>26663.698218</td>\n",
              "      <td>498.583238</td>\n",
              "      <td>303.468778</td>\n",
              "      <td>13.394928</td>\n",
              "      <td>4.750152</td>\n",
              "      <td>-0.562873</td>\n",
              "      <td>-0.199565</td>\n",
              "      <td>0.950863</td>\n",
              "      <td>0.309613</td>\n",
              "      <td>0</td>\n",
              "      <td>constposoffset</td>\n",
              "    </tr>\n",
              "    <tr>\n",
              "      <th>2</th>\n",
              "      <td>52161.314993</td>\n",
              "      <td>266.572055</td>\n",
              "      <td>41.134647</td>\n",
              "      <td>-0.531761</td>\n",
              "      <td>5.146397</td>\n",
              "      <td>-0.274390</td>\n",
              "      <td>2.655753</td>\n",
              "      <td>-0.095646</td>\n",
              "      <td>0.995415</td>\n",
              "      <td>0</td>\n",
              "      <td>constposoffset</td>\n",
              "    </tr>\n",
              "    <tr>\n",
              "      <th>3</th>\n",
              "      <td>27659.392320</td>\n",
              "      <td>365.106961</td>\n",
              "      <td>257.518958</td>\n",
              "      <td>14.903867</td>\n",
              "      <td>5.368904</td>\n",
              "      <td>-0.080198</td>\n",
              "      <td>-0.028698</td>\n",
              "      <td>0.954075</td>\n",
              "      <td>0.299568</td>\n",
              "      <td>1</td>\n",
              "      <td>randomposoffset</td>\n",
              "    </tr>\n",
              "    <tr>\n",
              "      <th>4</th>\n",
              "      <td>25623.210073</td>\n",
              "      <td>347.726613</td>\n",
              "      <td>483.105599</td>\n",
              "      <td>-9.744141</td>\n",
              "      <td>-7.657281</td>\n",
              "      <td>0.310752</td>\n",
              "      <td>0.244477</td>\n",
              "      <td>-0.799141</td>\n",
              "      <td>-0.601144</td>\n",
              "      <td>0</td>\n",
              "      <td>eventualstop</td>\n",
              "    </tr>\n",
              "  </tbody>\n",
              "</table>\n",
              "</div>\n",
              "    <div class=\"colab-df-buttons\">\n",
              "\n",
              "  <div class=\"colab-df-container\">\n",
              "    <button class=\"colab-df-convert\" onclick=\"convertToInteractive('df-6ea5ce7a-8eb8-4349-9c8d-93794a8e04e1')\"\n",
              "            title=\"Convert this dataframe to an interactive table.\"\n",
              "            style=\"display:none;\">\n",
              "\n",
              "  <svg xmlns=\"http://www.w3.org/2000/svg\" height=\"24px\" viewBox=\"0 -960 960 960\">\n",
              "    <path d=\"M120-120v-720h720v720H120Zm60-500h600v-160H180v160Zm220 220h160v-160H400v160Zm0 220h160v-160H400v160ZM180-400h160v-160H180v160Zm440 0h160v-160H620v160ZM180-180h160v-160H180v160Zm440 0h160v-160H620v160Z\"/>\n",
              "  </svg>\n",
              "    </button>\n",
              "\n",
              "  <style>\n",
              "    .colab-df-container {\n",
              "      display:flex;\n",
              "      gap: 12px;\n",
              "    }\n",
              "\n",
              "    .colab-df-convert {\n",
              "      background-color: #E8F0FE;\n",
              "      border: none;\n",
              "      border-radius: 50%;\n",
              "      cursor: pointer;\n",
              "      display: none;\n",
              "      fill: #1967D2;\n",
              "      height: 32px;\n",
              "      padding: 0 0 0 0;\n",
              "      width: 32px;\n",
              "    }\n",
              "\n",
              "    .colab-df-convert:hover {\n",
              "      background-color: #E2EBFA;\n",
              "      box-shadow: 0px 1px 2px rgba(60, 64, 67, 0.3), 0px 1px 3px 1px rgba(60, 64, 67, 0.15);\n",
              "      fill: #174EA6;\n",
              "    }\n",
              "\n",
              "    .colab-df-buttons div {\n",
              "      margin-bottom: 4px;\n",
              "    }\n",
              "\n",
              "    [theme=dark] .colab-df-convert {\n",
              "      background-color: #3B4455;\n",
              "      fill: #D2E3FC;\n",
              "    }\n",
              "\n",
              "    [theme=dark] .colab-df-convert:hover {\n",
              "      background-color: #434B5C;\n",
              "      box-shadow: 0px 1px 3px 1px rgba(0, 0, 0, 0.15);\n",
              "      filter: drop-shadow(0px 1px 2px rgba(0, 0, 0, 0.3));\n",
              "      fill: #FFFFFF;\n",
              "    }\n",
              "  </style>\n",
              "\n",
              "    <script>\n",
              "      const buttonEl =\n",
              "        document.querySelector('#df-6ea5ce7a-8eb8-4349-9c8d-93794a8e04e1 button.colab-df-convert');\n",
              "      buttonEl.style.display =\n",
              "        google.colab.kernel.accessAllowed ? 'block' : 'none';\n",
              "\n",
              "      async function convertToInteractive(key) {\n",
              "        const element = document.querySelector('#df-6ea5ce7a-8eb8-4349-9c8d-93794a8e04e1');\n",
              "        const dataTable =\n",
              "          await google.colab.kernel.invokeFunction('convertToInteractive',\n",
              "                                                    [key], {});\n",
              "        if (!dataTable) return;\n",
              "\n",
              "        const docLinkHtml = 'Like what you see? Visit the ' +\n",
              "          '<a target=\"_blank\" href=https://colab.research.google.com/notebooks/data_table.ipynb>data table notebook</a>'\n",
              "          + ' to learn more about interactive tables.';\n",
              "        element.innerHTML = '';\n",
              "        dataTable['output_type'] = 'display_data';\n",
              "        await google.colab.output.renderOutput(dataTable, element);\n",
              "        const docLink = document.createElement('div');\n",
              "        docLink.innerHTML = docLinkHtml;\n",
              "        element.appendChild(docLink);\n",
              "      }\n",
              "    </script>\n",
              "  </div>\n",
              "\n",
              "\n",
              "    <div id=\"df-d8c68565-a8ff-43a6-bd7e-c7ab3e37736d\">\n",
              "      <button class=\"colab-df-quickchart\" onclick=\"quickchart('df-d8c68565-a8ff-43a6-bd7e-c7ab3e37736d')\"\n",
              "                title=\"Suggest charts\"\n",
              "                style=\"display:none;\">\n",
              "\n",
              "<svg xmlns=\"http://www.w3.org/2000/svg\" height=\"24px\"viewBox=\"0 0 24 24\"\n",
              "     width=\"24px\">\n",
              "    <g>\n",
              "        <path d=\"M19 3H5c-1.1 0-2 .9-2 2v14c0 1.1.9 2 2 2h14c1.1 0 2-.9 2-2V5c0-1.1-.9-2-2-2zM9 17H7v-7h2v7zm4 0h-2V7h2v10zm4 0h-2v-4h2v4z\"/>\n",
              "    </g>\n",
              "</svg>\n",
              "      </button>\n",
              "\n",
              "<style>\n",
              "  .colab-df-quickchart {\n",
              "      --bg-color: #E8F0FE;\n",
              "      --fill-color: #1967D2;\n",
              "      --hover-bg-color: #E2EBFA;\n",
              "      --hover-fill-color: #174EA6;\n",
              "      --disabled-fill-color: #AAA;\n",
              "      --disabled-bg-color: #DDD;\n",
              "  }\n",
              "\n",
              "  [theme=dark] .colab-df-quickchart {\n",
              "      --bg-color: #3B4455;\n",
              "      --fill-color: #D2E3FC;\n",
              "      --hover-bg-color: #434B5C;\n",
              "      --hover-fill-color: #FFFFFF;\n",
              "      --disabled-bg-color: #3B4455;\n",
              "      --disabled-fill-color: #666;\n",
              "  }\n",
              "\n",
              "  .colab-df-quickchart {\n",
              "    background-color: var(--bg-color);\n",
              "    border: none;\n",
              "    border-radius: 50%;\n",
              "    cursor: pointer;\n",
              "    display: none;\n",
              "    fill: var(--fill-color);\n",
              "    height: 32px;\n",
              "    padding: 0;\n",
              "    width: 32px;\n",
              "  }\n",
              "\n",
              "  .colab-df-quickchart:hover {\n",
              "    background-color: var(--hover-bg-color);\n",
              "    box-shadow: 0 1px 2px rgba(60, 64, 67, 0.3), 0 1px 3px 1px rgba(60, 64, 67, 0.15);\n",
              "    fill: var(--button-hover-fill-color);\n",
              "  }\n",
              "\n",
              "  .colab-df-quickchart-complete:disabled,\n",
              "  .colab-df-quickchart-complete:disabled:hover {\n",
              "    background-color: var(--disabled-bg-color);\n",
              "    fill: var(--disabled-fill-color);\n",
              "    box-shadow: none;\n",
              "  }\n",
              "\n",
              "  .colab-df-spinner {\n",
              "    border: 2px solid var(--fill-color);\n",
              "    border-color: transparent;\n",
              "    border-bottom-color: var(--fill-color);\n",
              "    animation:\n",
              "      spin 1s steps(1) infinite;\n",
              "  }\n",
              "\n",
              "  @keyframes spin {\n",
              "    0% {\n",
              "      border-color: transparent;\n",
              "      border-bottom-color: var(--fill-color);\n",
              "      border-left-color: var(--fill-color);\n",
              "    }\n",
              "    20% {\n",
              "      border-color: transparent;\n",
              "      border-left-color: var(--fill-color);\n",
              "      border-top-color: var(--fill-color);\n",
              "    }\n",
              "    30% {\n",
              "      border-color: transparent;\n",
              "      border-left-color: var(--fill-color);\n",
              "      border-top-color: var(--fill-color);\n",
              "      border-right-color: var(--fill-color);\n",
              "    }\n",
              "    40% {\n",
              "      border-color: transparent;\n",
              "      border-right-color: var(--fill-color);\n",
              "      border-top-color: var(--fill-color);\n",
              "    }\n",
              "    60% {\n",
              "      border-color: transparent;\n",
              "      border-right-color: var(--fill-color);\n",
              "    }\n",
              "    80% {\n",
              "      border-color: transparent;\n",
              "      border-right-color: var(--fill-color);\n",
              "      border-bottom-color: var(--fill-color);\n",
              "    }\n",
              "    90% {\n",
              "      border-color: transparent;\n",
              "      border-bottom-color: var(--fill-color);\n",
              "    }\n",
              "  }\n",
              "</style>\n",
              "\n",
              "      <script>\n",
              "        async function quickchart(key) {\n",
              "          const quickchartButtonEl =\n",
              "            document.querySelector('#' + key + ' button');\n",
              "          quickchartButtonEl.disabled = true;  // To prevent multiple clicks.\n",
              "          quickchartButtonEl.classList.add('colab-df-spinner');\n",
              "          try {\n",
              "            const charts = await google.colab.kernel.invokeFunction(\n",
              "                'suggestCharts', [key], {});\n",
              "          } catch (error) {\n",
              "            console.error('Error during call to suggestCharts:', error);\n",
              "          }\n",
              "          quickchartButtonEl.classList.remove('colab-df-spinner');\n",
              "          quickchartButtonEl.classList.add('colab-df-quickchart-complete');\n",
              "        }\n",
              "        (() => {\n",
              "          let quickchartButtonEl =\n",
              "            document.querySelector('#df-d8c68565-a8ff-43a6-bd7e-c7ab3e37736d button');\n",
              "          quickchartButtonEl.style.display =\n",
              "            google.colab.kernel.accessAllowed ? 'block' : 'none';\n",
              "        })();\n",
              "      </script>\n",
              "    </div>\n",
              "\n",
              "    </div>\n",
              "  </div>\n"
            ],
            "application/vnd.google.colaboratory.intrinsic+json": {
              "type": "dataframe",
              "variable_name": "data"
            }
          },
          "metadata": {},
          "execution_count": 20
        }
      ]
    }
  ]
}